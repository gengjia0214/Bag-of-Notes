{
 "cells": [
  {
   "cell_type": "markdown",
   "metadata": {},
   "source": [
    "# Multiprocessing In Python\n",
    "\n",
    "Video Tutorial\n",
    "\n",
    "https://www.youtube.com/watch?v=fKl2JW_qrso"
   ]
  },
  {
   "cell_type": "markdown",
   "metadata": {},
   "source": [
    "## 1 Basic Multiprocessing Using `start()` and `join()`"
   ]
  },
  {
   "cell_type": "code",
   "execution_count": 11,
   "metadata": {},
   "outputs": [],
   "source": [
    "import multiprocessing\n",
    "import psutil\n",
    "import time"
   ]
  },
  {
   "cell_type": "code",
   "execution_count": 111,
   "metadata": {},
   "outputs": [],
   "source": [
    "def sleep(start):\n",
    "    time.sleep(1)\n",
    "    end = time.time()\n",
    "    interval = end - start\n",
    "    print('Slept for {} s'.format(interval))"
   ]
  },
  {
   "cell_type": "code",
   "execution_count": 112,
   "metadata": {},
   "outputs": [
    {
     "name": "stdout",
     "output_type": "stream",
     "text": [
      "Slept for 1.0010337829589844 s\n"
     ]
    }
   ],
   "source": [
    "sleep(time.time())"
   ]
  },
  {
   "cell_type": "code",
   "execution_count": 113,
   "metadata": {},
   "outputs": [
    {
     "name": "stdout",
     "output_type": "stream",
     "text": [
      "Slept for 1.0011968612670898 s\n",
      "Slept for 2.0024800300598145 s\n",
      "[]\n"
     ]
    }
   ],
   "source": [
    "s0 = time.time()\n",
    "sleep(s0)\n",
    "sleep(s0)\n",
    "print(log)"
   ]
  },
  {
   "cell_type": "code",
   "execution_count": 114,
   "metadata": {},
   "outputs": [
    {
     "name": "stdout",
     "output_type": "stream",
     "text": [
      "Slept for 1.0053908824920654 s\n",
      "Slept for 1.008967638015747 s\n"
     ]
    }
   ],
   "source": [
    "from functools import partial \n",
    "\n",
    "# basic usage, pass the function that need to be parallelized into Process\n",
    "# if param is needed, use partial()\n",
    "s0 = time.time()\n",
    "p1 = multiprocessing.Process(target=partial(sleep, start=s0))\n",
    "p2 = multiprocessing.Process(target=partial(sleep, start=s0))\n",
    "\n",
    "p1.start()\n",
    "p2.start()\n"
   ]
  },
  {
   "cell_type": "code",
   "execution_count": 115,
   "metadata": {},
   "outputs": [
    {
     "name": "stdout",
     "output_type": "stream",
     "text": [
      "Slept for 1.005708932876587 s\n",
      "Slept for 1.0098764896392822 s\n"
     ]
    }
   ],
   "source": [
    "# or just use args = []\n",
    "s0 = time.time()\n",
    "p1 = multiprocessing.Process(target=sleep, args=[s0])\n",
    "p2 = multiprocessing.Process(target=sleep, args=[s0])\n",
    "\n",
    "p1.start()\n",
    "p2.start()"
   ]
  },
  {
   "cell_type": "code",
   "execution_count": 116,
   "metadata": {},
   "outputs": [
    {
     "name": "stdout",
     "output_type": "stream",
     "text": [
      "Slept for 1.0011467933654785 s\n",
      "Slept for 2.002225875854492 s\n",
      "Slept for 3.0034024715423584 s\n",
      "Slept for 4.0046226978302 s\n",
      "Slept for 5.005927324295044 s\n",
      "Slept for 6.006337404251099 s\n",
      "Slept for 7.007627010345459 s\n",
      "Slept for 8.008283138275146 s\n"
     ]
    }
   ],
   "source": [
    "s0 = time.time()\n",
    "for _ in range(ncpu):\n",
    "    sleep(s0)"
   ]
  },
  {
   "cell_type": "code",
   "execution_count": 117,
   "metadata": {},
   "outputs": [
    {
     "name": "stdout",
     "output_type": "stream",
     "text": [
      "aha\n",
      "Slept for 1.0068423748016357 s\n",
      "Slept for 1.0095231533050537 s\n",
      "Slept for 1.0123026371002197 s\n",
      "Slept for 1.0165667533874512 s\n",
      "Slept for 1.0205693244934082 s\n",
      "Slept for 1.0235199928283691 s\n",
      "Slept for 1.0260255336761475 s\n",
      "Slept for 1.0286574363708496 s\n",
      "Slept for 1.0314502716064453 s\n",
      "Slept for 1.0338845252990723 s\n",
      "Slept for 1.0365734100341797 s\n",
      "Slept for 1.040107250213623 s\n",
      "Slept for 1.043205738067627 s\n",
      "Slept for 1.0462050437927246 s\n",
      "Slept for 1.0510985851287842 s\n",
      "Slept for 1.0485646724700928 s\n"
     ]
    }
   ],
   "source": [
    "ncpu = psutil.cpu_count()\n",
    "s0 = time.time()\n",
    "for _ in range(ncpu*2):\n",
    "    p = multiprocessing.Process(target=partial(sleep, start=s0))\n",
    "    p.start()\n",
    "    \n",
    "    \n",
    "# this some time got executed before the multiprocess \n",
    "print('aha')  \n"
   ]
  },
  {
   "cell_type": "code",
   "execution_count": 118,
   "metadata": {},
   "outputs": [
    {
     "name": "stdout",
     "output_type": "stream",
     "text": [
      "Slept for 1.007488489151001 s\n",
      "Slept for 2.015533685684204 s\n",
      "Slept for 3.0250966548919678 s\n",
      "Slept for 4.036656856536865 s\n",
      "Slept for 5.049725532531738 s\n",
      "Slept for 6.0611090660095215 s\n",
      "Slept for 7.074568271636963 s\n",
      "Slept for 8.08715534210205 s\n"
     ]
    }
   ],
   "source": [
    "ncpu = psutil.cpu_count()\n",
    "s0 = time.time()\n",
    "for _ in range(ncpu):\n",
    "    p = multiprocessing.Process(target=partial(sleep, start=s0))\n",
    "    # use p.join() which means finish everything before this line\n",
    "    p.start()\n",
    "    # but if put it in the loop, it will wait until the current process finish\n",
    "    # which make no different than the single process \n",
    "    p.join()  \n",
    "    "
   ]
  },
  {
   "cell_type": "code",
   "execution_count": 120,
   "metadata": {},
   "outputs": [
    {
     "name": "stdout",
     "output_type": "stream",
     "text": [
      "Slept for 1.0054244995117188 s\n",
      "Slept for 1.0072746276855469 s\n",
      "Slept for 1.0112919807434082 s\n",
      "Slept for 1.0151615142822266 s\n",
      "Slept for 1.0178275108337402 s\n",
      "Slept for 1.0203397274017334 s\n",
      "Slept for 1.023212194442749 s\n",
      "Slept for 1.025681734085083 s\n",
      "Slept for 1.0304615497589111 s\n",
      "Slept for 1.0377569198608398 s\n",
      "Slept for 1.0390913486480713 s\n",
      "Slept for 1.0426864624023438 s\n",
      "Slept for 1.0470097064971924 s\n",
      "Slept for 1.0491464138031006 s\n",
      "Slept for 1.0577900409698486 s\n",
      "Slept for 1.059152603149414 s\n"
     ]
    }
   ],
   "source": [
    "ncpu = psutil.cpu_count()\n",
    "s0 = time.time()\n",
    "processes = []\n",
    "for _ in range(ncpu*2):\n",
    "    p = multiprocessing.Process(target=partial(sleep, start=s0))\n",
    "    # use p.join() which means finish everything before this line\n",
    "    p.start()\n",
    "    # but if put it in the loop, it will wait until the STARTED process finish\n",
    "    # which make no different than the single process \n",
    "    processes.append(p) \n",
    "\n",
    "# all the processes are STARTED so if we call join here\n",
    "# it will execute all processes and then move down to print() function\n",
    "for p in processes:\n",
    "    p.join()\n"
   ]
  },
  {
   "cell_type": "markdown",
   "metadata": {},
   "source": [
    "## 2 Multiprocessing Using Context Manager `ProcessPoolExecutor` "
   ]
  },
  {
   "cell_type": "markdown",
   "metadata": {},
   "source": [
    "### 2.1 `ProcessPoolExecutor.submit(func, *args)`\n",
    "\n",
    "Return a `Future` object instance that encapsulate the execution of the funciton"
   ]
  },
  {
   "cell_type": "code",
   "execution_count": 121,
   "metadata": {},
   "outputs": [],
   "source": [
    "import concurrent.futures"
   ]
  },
  {
   "cell_type": "code",
   "execution_count": 126,
   "metadata": {},
   "outputs": [],
   "source": [
    "def do_something(start):\n",
    "    time.sleep(1)\n",
    "    end = time.time()\n",
    "    interval = end - start\n",
    "    log = 'Slept for {} s'.format(interval)\n",
    "    return log"
   ]
  },
  {
   "cell_type": "code",
   "execution_count": 127,
   "metadata": {},
   "outputs": [
    {
     "name": "stdout",
     "output_type": "stream",
     "text": [
      "Slept for 1.028583288192749 s\n",
      "Slept for 2.0316481590270996 s\n",
      "Slept for 3.0348689556121826 s\n",
      "Slept for 4.037087917327881 s\n",
      "Slept for 5.039594411849976 s\n",
      "Slept for 6.041833400726318 s\n",
      "Slept for 7.043625116348267 s\n",
      "Slept for 8.045630931854248 s\n",
      "Slept for 9.047599077224731 s\n",
      "Slept for 10.049738883972168 s\n"
     ]
    }
   ],
   "source": [
    "# do the multiprocessing within a context manager\n",
    "s0 = time.time()\n",
    "with concurrent.futures.ProcessPoolExecutor() as executor:\n",
    "    # submit() schedule a function for the executor\n",
    "    # and return a Future object instance\n",
    "    # Future object encapsulate the execution of the function \n",
    "    # and allow us to check on it after it been scheduled \n",
    "    for _ in range(10):\n",
    "        f = executor.submit(do_something, s0)  # just pass the args or use the partial tool\n",
    "        # use .result() to grab the returned value\n",
    "        # it will wait until the scheduled process been executed!\n",
    "        print(f.result())  "
   ]
  },
  {
   "cell_type": "code",
   "execution_count": 130,
   "metadata": {},
   "outputs": [
    {
     "name": "stdout",
     "output_type": "stream",
     "text": [
      "Slept for 1.0279479026794434 s\n",
      "Slept for 1.0279583930969238 s\n",
      "Slept for 1.028503179550171 s\n",
      "Slept for 1.0289034843444824 s\n",
      "Slept for 1.0285060405731201 s\n",
      "Slept for 1.0284929275512695 s\n",
      "Slept for 1.028576374053955 s\n",
      "Slept for 1.0290517807006836 s\n",
      "Slept for 2.029646635055542 s\n",
      "Slept for 2.029707908630371 s\n",
      "Slept for 2.0300400257110596 s\n",
      "Slept for 2.030409812927246 s\n",
      "Slept for 2.030057668685913 s\n",
      "Slept for 2.030407190322876 s\n",
      "Slept for 2.031118154525757 s\n",
      "Slept for 2.0311598777770996 s\n"
     ]
    }
   ],
   "source": [
    "# Do the multiprocessing within a context manager\n",
    "# Note that here the result is different from section 1\n",
    "# Because by default, num_worker=num_threads = 8\n",
    "s0 = time.time()\n",
    "with concurrent.futures.ProcessPoolExecutor() as executor:\n",
    "    processes = []\n",
    "    for _ in range(ncpu*2):\n",
    "        f = executor.submit(do_something, s0)\n",
    "        processes.append(f)\n",
    "    print(\"\\n\".join([p.result() for p in processes]))"
   ]
  },
  {
   "cell_type": "code",
   "execution_count": 131,
   "metadata": {},
   "outputs": [
    {
     "name": "stdout",
     "output_type": "stream",
     "text": [
      "Slept for 1.0300021171569824 s\n",
      "Slept for 1.0298991203308105 s\n",
      "Slept for 1.0295798778533936 s\n",
      "Slept for 1.030571699142456 s\n",
      "Slept for 1.0306386947631836 s\n",
      "Slept for 1.0298097133636475 s\n",
      "Slept for 1.0316236019134521 s\n",
      "Slept for 1.0316674709320068 s\n",
      "Slept for 2.0313782691955566 s\n",
      "Slept for 2.0315282344818115 s\n",
      "Slept for 2.0316131114959717 s\n",
      "Slept for 2.0317811965942383 s\n",
      "Slept for 2.0313782691955566 s\n",
      "Slept for 2.0323872566223145 s\n",
      "Slept for 2.032423257827759 s\n",
      "Slept for 2.0324223041534424 s\n"
     ]
    }
   ],
   "source": [
    "# Do the multiprocessing within a context manager\n",
    "# Note that here the result is different from section 1\n",
    "# Because by default, max_workers=num_threads = 8\n",
    "s0 = time.time()\n",
    "with concurrent.futures.ProcessPoolExecutor() as executor:\n",
    "    processes = []\n",
    "    for _ in range(ncpu*2):\n",
    "        f = executor.submit(do_something, s0)\n",
    "        processes.append(f)\n",
    "    print(\"\\n\".join([p.result() for p in processes]))"
   ]
  },
  {
   "cell_type": "code",
   "execution_count": 133,
   "metadata": {},
   "outputs": [
    {
     "name": "stdout",
     "output_type": "stream",
     "text": [
      "Slept for 1.057748556137085 s\n",
      "Slept for 1.0578391551971436 s\n",
      "Slept for 1.0579161643981934 s\n",
      "Slept for 1.058048963546753 s\n",
      "Slept for 1.0579161643981934 s\n",
      "Slept for 1.0583961009979248 s\n",
      "Slept for 1.057793140411377 s\n",
      "Slept for 1.0583992004394531 s\n",
      "Slept for 1.0586652755737305 s\n",
      "Slept for 1.058048963546753 s\n",
      "Slept for 1.0583984851837158 s\n",
      "Slept for 1.058934211730957 s\n",
      "Slept for 1.058666706085205 s\n",
      "Slept for 1.0591113567352295 s\n",
      "Slept for 1.0591745376586914 s\n",
      "Slept for 1.059211254119873 s\n"
     ]
    }
   ],
   "source": [
    "# now set the max worker = 16, this is larger than the thread we have\n",
    "# but it still work, I guess this is because that once call on sleep\n",
    "# the thread will be available again?\n",
    "s0 = time.time()\n",
    "with concurrent.futures.ProcessPoolExecutor(max_workers=16) as executor:\n",
    "    processes = []\n",
    "    for _ in range(ncpu*2):\n",
    "        f = executor.submit(do_something, s0)\n",
    "        processes.append(f)\n",
    "    print(\"\\n\".join([p.result() for p in processes]))"
   ]
  },
  {
   "cell_type": "markdown",
   "metadata": {},
   "source": [
    "### 2.2 ProcessPoolExecutor.map(func, list)\n",
    "\n",
    "- `.map(func, list)` will map the function to each of the items in the list and schedule them into multiprocess.\n",
    "- `.map(func, list)` will return a list of returned value from each scheduled function instead of a Future object istance."
   ]
  },
  {
   "cell_type": "code",
   "execution_count": 138,
   "metadata": {},
   "outputs": [
    {
     "name": "stdout",
     "output_type": "stream",
     "text": [
      "Slept for 2.002082109451294s\n"
     ]
    }
   ],
   "source": [
    "def do_something(start, t):\n",
    "    time.sleep(t)\n",
    "    end = time.time()\n",
    "    log = 'Slept for {}s'.format(end-start)\n",
    "    return log\n",
    "\n",
    "print(do_something(time.time(), 2))"
   ]
  },
  {
   "cell_type": "code",
   "execution_count": 143,
   "metadata": {},
   "outputs": [
    {
     "ename": "TypeError",
     "evalue": "do_something() missing 1 required positional argument: 't'",
     "output_type": "error",
     "traceback": [
      "\u001b[0;31m---------------------------------------------------------------------------\u001b[0m",
      "\u001b[0;31m_RemoteTraceback\u001b[0m                          Traceback (most recent call last)",
      "\u001b[0;31m_RemoteTraceback\u001b[0m: \n\"\"\"\nTraceback (most recent call last):\n  File \"/home/jgeng/anaconda3/envs/ml/lib/python3.7/concurrent/futures/process.py\", line 239, in _process_worker\n    r = call_item.fn(*call_item.args, **call_item.kwargs)\n  File \"/home/jgeng/anaconda3/envs/ml/lib/python3.7/concurrent/futures/process.py\", line 198, in _process_chunk\n    return [fn(*args) for args in chunk]\n  File \"/home/jgeng/anaconda3/envs/ml/lib/python3.7/concurrent/futures/process.py\", line 198, in <listcomp>\n    return [fn(*args) for args in chunk]\nTypeError: do_something() missing 1 required positional argument: 't'\n\"\"\"",
      "\nThe above exception was the direct cause of the following exception:\n",
      "\u001b[0;31mTypeError\u001b[0m                                 Traceback (most recent call last)",
      "\u001b[0;32m<ipython-input-143-03a961f2cb30>\u001b[0m in \u001b[0;36m<module>\u001b[0;34m\u001b[0m\n\u001b[1;32m      3\u001b[0m     \u001b[0marg_list\u001b[0m \u001b[0;34m=\u001b[0m \u001b[0;34m[\u001b[0m\u001b[0;34m[\u001b[0m\u001b[0ms0\u001b[0m\u001b[0;34m,\u001b[0m \u001b[0mt\u001b[0m\u001b[0;34m]\u001b[0m \u001b[0;32mfor\u001b[0m \u001b[0mt\u001b[0m \u001b[0;32min\u001b[0m \u001b[0mrange\u001b[0m\u001b[0;34m(\u001b[0m\u001b[0;36m1\u001b[0m\u001b[0;34m,\u001b[0m \u001b[0;36m17\u001b[0m\u001b[0;34m)\u001b[0m\u001b[0;34m]\u001b[0m\u001b[0;34m\u001b[0m\u001b[0;34m\u001b[0m\u001b[0m\n\u001b[1;32m      4\u001b[0m     \u001b[0mresults\u001b[0m \u001b[0;34m=\u001b[0m \u001b[0mexecutor\u001b[0m\u001b[0;34m.\u001b[0m\u001b[0mmap\u001b[0m\u001b[0;34m(\u001b[0m\u001b[0mdo_something\u001b[0m\u001b[0;34m,\u001b[0m \u001b[0marg_list\u001b[0m\u001b[0;34m)\u001b[0m\u001b[0;34m\u001b[0m\u001b[0;34m\u001b[0m\u001b[0m\n\u001b[0;32m----> 5\u001b[0;31m     \u001b[0mprint\u001b[0m\u001b[0;34m(\u001b[0m\u001b[0;34m[\u001b[0m\u001b[0mresult\u001b[0m \u001b[0;32mfor\u001b[0m \u001b[0mresult\u001b[0m \u001b[0;32min\u001b[0m \u001b[0mresults\u001b[0m\u001b[0;34m]\u001b[0m\u001b[0;34m)\u001b[0m\u001b[0;34m\u001b[0m\u001b[0;34m\u001b[0m\u001b[0m\n\u001b[0m",
      "\u001b[0;32m<ipython-input-143-03a961f2cb30>\u001b[0m in \u001b[0;36m<listcomp>\u001b[0;34m(.0)\u001b[0m\n\u001b[1;32m      3\u001b[0m     \u001b[0marg_list\u001b[0m \u001b[0;34m=\u001b[0m \u001b[0;34m[\u001b[0m\u001b[0;34m[\u001b[0m\u001b[0ms0\u001b[0m\u001b[0;34m,\u001b[0m \u001b[0mt\u001b[0m\u001b[0;34m]\u001b[0m \u001b[0;32mfor\u001b[0m \u001b[0mt\u001b[0m \u001b[0;32min\u001b[0m \u001b[0mrange\u001b[0m\u001b[0;34m(\u001b[0m\u001b[0;36m1\u001b[0m\u001b[0;34m,\u001b[0m \u001b[0;36m17\u001b[0m\u001b[0;34m)\u001b[0m\u001b[0;34m]\u001b[0m\u001b[0;34m\u001b[0m\u001b[0;34m\u001b[0m\u001b[0m\n\u001b[1;32m      4\u001b[0m     \u001b[0mresults\u001b[0m \u001b[0;34m=\u001b[0m \u001b[0mexecutor\u001b[0m\u001b[0;34m.\u001b[0m\u001b[0mmap\u001b[0m\u001b[0;34m(\u001b[0m\u001b[0mdo_something\u001b[0m\u001b[0;34m,\u001b[0m \u001b[0marg_list\u001b[0m\u001b[0;34m)\u001b[0m\u001b[0;34m\u001b[0m\u001b[0;34m\u001b[0m\u001b[0m\n\u001b[0;32m----> 5\u001b[0;31m     \u001b[0mprint\u001b[0m\u001b[0;34m(\u001b[0m\u001b[0;34m[\u001b[0m\u001b[0mresult\u001b[0m \u001b[0;32mfor\u001b[0m \u001b[0mresult\u001b[0m \u001b[0;32min\u001b[0m \u001b[0mresults\u001b[0m\u001b[0;34m]\u001b[0m\u001b[0;34m)\u001b[0m\u001b[0;34m\u001b[0m\u001b[0;34m\u001b[0m\u001b[0m\n\u001b[0m",
      "\u001b[0;32m~/anaconda3/envs/ml/lib/python3.7/concurrent/futures/process.py\u001b[0m in \u001b[0;36m_chain_from_iterable_of_lists\u001b[0;34m(iterable)\u001b[0m\n\u001b[1;32m    481\u001b[0m     \u001b[0mcareful\u001b[0m \u001b[0;32mnot\u001b[0m \u001b[0mto\u001b[0m \u001b[0mkeep\u001b[0m \u001b[0mreferences\u001b[0m \u001b[0mto\u001b[0m \u001b[0myielded\u001b[0m \u001b[0mobjects\u001b[0m\u001b[0;34m.\u001b[0m\u001b[0;34m\u001b[0m\u001b[0;34m\u001b[0m\u001b[0m\n\u001b[1;32m    482\u001b[0m     \"\"\"\n\u001b[0;32m--> 483\u001b[0;31m     \u001b[0;32mfor\u001b[0m \u001b[0melement\u001b[0m \u001b[0;32min\u001b[0m \u001b[0miterable\u001b[0m\u001b[0;34m:\u001b[0m\u001b[0;34m\u001b[0m\u001b[0;34m\u001b[0m\u001b[0m\n\u001b[0m\u001b[1;32m    484\u001b[0m         \u001b[0melement\u001b[0m\u001b[0;34m.\u001b[0m\u001b[0mreverse\u001b[0m\u001b[0;34m(\u001b[0m\u001b[0;34m)\u001b[0m\u001b[0;34m\u001b[0m\u001b[0;34m\u001b[0m\u001b[0m\n\u001b[1;32m    485\u001b[0m         \u001b[0;32mwhile\u001b[0m \u001b[0melement\u001b[0m\u001b[0;34m:\u001b[0m\u001b[0;34m\u001b[0m\u001b[0;34m\u001b[0m\u001b[0m\n",
      "\u001b[0;32m~/anaconda3/envs/ml/lib/python3.7/concurrent/futures/_base.py\u001b[0m in \u001b[0;36mresult_iterator\u001b[0;34m()\u001b[0m\n\u001b[1;32m    596\u001b[0m                     \u001b[0;31m# Careful not to keep a reference to the popped future\u001b[0m\u001b[0;34m\u001b[0m\u001b[0;34m\u001b[0m\u001b[0;34m\u001b[0m\u001b[0m\n\u001b[1;32m    597\u001b[0m                     \u001b[0;32mif\u001b[0m \u001b[0mtimeout\u001b[0m \u001b[0;32mis\u001b[0m \u001b[0;32mNone\u001b[0m\u001b[0;34m:\u001b[0m\u001b[0;34m\u001b[0m\u001b[0;34m\u001b[0m\u001b[0m\n\u001b[0;32m--> 598\u001b[0;31m                         \u001b[0;32myield\u001b[0m \u001b[0mfs\u001b[0m\u001b[0;34m.\u001b[0m\u001b[0mpop\u001b[0m\u001b[0;34m(\u001b[0m\u001b[0;34m)\u001b[0m\u001b[0;34m.\u001b[0m\u001b[0mresult\u001b[0m\u001b[0;34m(\u001b[0m\u001b[0;34m)\u001b[0m\u001b[0;34m\u001b[0m\u001b[0;34m\u001b[0m\u001b[0m\n\u001b[0m\u001b[1;32m    599\u001b[0m                     \u001b[0;32melse\u001b[0m\u001b[0;34m:\u001b[0m\u001b[0;34m\u001b[0m\u001b[0;34m\u001b[0m\u001b[0m\n\u001b[1;32m    600\u001b[0m                         \u001b[0;32myield\u001b[0m \u001b[0mfs\u001b[0m\u001b[0;34m.\u001b[0m\u001b[0mpop\u001b[0m\u001b[0;34m(\u001b[0m\u001b[0;34m)\u001b[0m\u001b[0;34m.\u001b[0m\u001b[0mresult\u001b[0m\u001b[0;34m(\u001b[0m\u001b[0mend_time\u001b[0m \u001b[0;34m-\u001b[0m \u001b[0mtime\u001b[0m\u001b[0;34m.\u001b[0m\u001b[0mmonotonic\u001b[0m\u001b[0;34m(\u001b[0m\u001b[0;34m)\u001b[0m\u001b[0;34m)\u001b[0m\u001b[0;34m\u001b[0m\u001b[0;34m\u001b[0m\u001b[0m\n",
      "\u001b[0;32m~/anaconda3/envs/ml/lib/python3.7/concurrent/futures/_base.py\u001b[0m in \u001b[0;36mresult\u001b[0;34m(self, timeout)\u001b[0m\n\u001b[1;32m    433\u001b[0m                 \u001b[0;32mraise\u001b[0m \u001b[0mCancelledError\u001b[0m\u001b[0;34m(\u001b[0m\u001b[0;34m)\u001b[0m\u001b[0;34m\u001b[0m\u001b[0;34m\u001b[0m\u001b[0m\n\u001b[1;32m    434\u001b[0m             \u001b[0;32melif\u001b[0m \u001b[0mself\u001b[0m\u001b[0;34m.\u001b[0m\u001b[0m_state\u001b[0m \u001b[0;34m==\u001b[0m \u001b[0mFINISHED\u001b[0m\u001b[0;34m:\u001b[0m\u001b[0;34m\u001b[0m\u001b[0;34m\u001b[0m\u001b[0m\n\u001b[0;32m--> 435\u001b[0;31m                 \u001b[0;32mreturn\u001b[0m \u001b[0mself\u001b[0m\u001b[0;34m.\u001b[0m\u001b[0m__get_result\u001b[0m\u001b[0;34m(\u001b[0m\u001b[0;34m)\u001b[0m\u001b[0;34m\u001b[0m\u001b[0;34m\u001b[0m\u001b[0m\n\u001b[0m\u001b[1;32m    436\u001b[0m             \u001b[0;32melse\u001b[0m\u001b[0;34m:\u001b[0m\u001b[0;34m\u001b[0m\u001b[0;34m\u001b[0m\u001b[0m\n\u001b[1;32m    437\u001b[0m                 \u001b[0;32mraise\u001b[0m \u001b[0mTimeoutError\u001b[0m\u001b[0;34m(\u001b[0m\u001b[0;34m)\u001b[0m\u001b[0;34m\u001b[0m\u001b[0;34m\u001b[0m\u001b[0m\n",
      "\u001b[0;32m~/anaconda3/envs/ml/lib/python3.7/concurrent/futures/_base.py\u001b[0m in \u001b[0;36m__get_result\u001b[0;34m(self)\u001b[0m\n\u001b[1;32m    382\u001b[0m     \u001b[0;32mdef\u001b[0m \u001b[0m__get_result\u001b[0m\u001b[0;34m(\u001b[0m\u001b[0mself\u001b[0m\u001b[0;34m)\u001b[0m\u001b[0;34m:\u001b[0m\u001b[0;34m\u001b[0m\u001b[0;34m\u001b[0m\u001b[0m\n\u001b[1;32m    383\u001b[0m         \u001b[0;32mif\u001b[0m \u001b[0mself\u001b[0m\u001b[0;34m.\u001b[0m\u001b[0m_exception\u001b[0m\u001b[0;34m:\u001b[0m\u001b[0;34m\u001b[0m\u001b[0;34m\u001b[0m\u001b[0m\n\u001b[0;32m--> 384\u001b[0;31m             \u001b[0;32mraise\u001b[0m \u001b[0mself\u001b[0m\u001b[0;34m.\u001b[0m\u001b[0m_exception\u001b[0m\u001b[0;34m\u001b[0m\u001b[0;34m\u001b[0m\u001b[0m\n\u001b[0m\u001b[1;32m    385\u001b[0m         \u001b[0;32melse\u001b[0m\u001b[0;34m:\u001b[0m\u001b[0;34m\u001b[0m\u001b[0;34m\u001b[0m\u001b[0m\n\u001b[1;32m    386\u001b[0m             \u001b[0;32mreturn\u001b[0m \u001b[0mself\u001b[0m\u001b[0;34m.\u001b[0m\u001b[0m_result\u001b[0m\u001b[0;34m\u001b[0m\u001b[0;34m\u001b[0m\u001b[0m\n",
      "\u001b[0;31mTypeError\u001b[0m: do_something() missing 1 required positional argument: 't'"
     ]
    }
   ],
   "source": [
    "with concurrent.futures.ProcessPoolExecutor() as executor:\n",
    "    s0 = time.time()\n",
    "    arg_list = [(s0, t) for t in range(1, 17)]\n",
    "    results = executor.map(do_something, arg_list)\n",
    "    print([result for result in results])"
   ]
  },
  {
   "cell_type": "code",
   "execution_count": null,
   "metadata": {},
   "outputs": [],
   "source": []
  }
 ],
 "metadata": {
  "kernelspec": {
   "display_name": "Python 3",
   "language": "python",
   "name": "python3"
  },
  "language_info": {
   "codemirror_mode": {
    "name": "ipython",
    "version": 3
   },
   "file_extension": ".py",
   "mimetype": "text/x-python",
   "name": "python",
   "nbconvert_exporter": "python",
   "pygments_lexer": "ipython3",
   "version": "3.7.6"
  }
 },
 "nbformat": 4,
 "nbformat_minor": 4
}

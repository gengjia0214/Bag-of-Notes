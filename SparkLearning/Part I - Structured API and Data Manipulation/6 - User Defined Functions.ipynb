{
 "cells": [
  {
   "cell_type": "markdown",
   "metadata": {},
   "source": [
    "\n",
    "# Spark Learning Note - User Defined Functions\n",
    "\n",
    "Jia Geng | gjia0214@gmail.com"
   ]
  },
  {
   "cell_type": "markdown",
   "metadata": {},
   "source": [
    "## Why UDF in Python is slow?\n",
    "\n",
    "- Essentially, the pyspark just provide APIs to access the spark functions in JVM. \n",
    "All the computation is in JVM instead of python.\n",
    "- If write UDF in python, then the worker need to:\n",
    "    - serialize the python to JVM\n",
    "    - execute JVM\n",
    "    - serialize result back to python\n",
    "- Hence, UDFs in python cause overhead and can be much slower than UDFs in Scala/Java\n",
    "\n",
    "## Alternatives\n",
    "\n",
    "- Spark 2.3 released the vectorized Pandas UDFs, which is much faster than the vanila python UDFs.\n",
    "- Scala UDFs is still faster than Pandas UDFs... \n",
    "- Another way is to write the UDFs in Scala, register it. And then use pyspark to call the UDFs in sql...\n",
    "\n",
    "## Pandas UDFs\n",
    "\n",
    "Scalar Pandas UDFs are used for vectorizing scalar operations. To define a scalar Pandas UDF, simply use @pandas_udf to annotate a Python function that takes in pandas.Series as arguments and returns another pandas.Series of the same size. \n",
    "\n",
    "Note that there are two important requirements when using scalar pandas UDFs:\n",
    "\n",
    "- The input and output series must have the same size.\n",
    "- How a column is split into multiple pandas.Series is internal to Spark, and therefore the result of user-defined function must be independent of the splitting.\n",
    "\n",
    "More at: https://databricks.com/blog/2017/10/30/introducing-vectorized-udfs-for-pyspark.html\n",
    "\n",
    "## Use-Defiend Aggregation Fucntions\n",
    "\n",
    "User can also define customized aggregation function. However, this is only supported for Scala and Java for now..."
   ]
  },
  {
   "cell_type": "code",
   "execution_count": null,
   "metadata": {},
   "outputs": [],
   "source": []
  }
 ],
 "metadata": {
  "kernelspec": {
   "display_name": "Python 3",
   "language": "python",
   "name": "python3"
  },
  "language_info": {
   "codemirror_mode": {
    "name": "ipython",
    "version": 3
   },
   "file_extension": ".py",
   "mimetype": "text/x-python",
   "name": "python",
   "nbconvert_exporter": "python",
   "pygments_lexer": "ipython3",
   "version": "3.7.6"
  }
 },
 "nbformat": 4,
 "nbformat_minor": 4
}

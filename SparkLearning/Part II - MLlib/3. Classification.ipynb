{
 "cells": [
  {
   "cell_type": "markdown",
   "metadata": {},
   "source": [
    "# Spark Learning Note - Classification\n",
    "Jia Geng | gjia0214@gmail.com\n"
   ]
  },
  {
   "cell_type": "markdown",
   "metadata": {},
   "source": [
    "<a id='directory'></a>\n",
    "\n",
    "## Directory\n",
    "\n",
    "- [Data Source](https://github.com/databricks/Spark-The-Definitive-Guide/tree/master/data/)\n",
    "- [1. Classification Models in MLlib](#sec1)\n",
    "- [2. Logistic Regression](#sec2)\n",
    "- [3. Tree Based Algorithm](#sec3)\n",
    "    - [3.1  Decision Tree](#sec3-1)\n",
    "    - [3.2 Random Forest & Gradient-boosted Tree](#sec3-2)\n",
    "- [4. Naive Bayes](#sec4)\n",
    "- [5. One vs Rest Classifier](#sec5)\n",
    "- [6. Evaluators for Classification and Automating Model Tuning](#sec6)"
   ]
  },
  {
   "cell_type": "code",
   "execution_count": 1,
   "metadata": {},
   "outputs": [
    {
     "data": {
      "text/html": [
       "\n",
       "            <div>\n",
       "                <p><b>SparkSession - in-memory</b></p>\n",
       "                \n",
       "        <div>\n",
       "            <p><b>SparkContext</b></p>\n",
       "\n",
       "            <p><a href=\"http://unknown40A5EF2BBD8A:4041\">Spark UI</a></p>\n",
       "\n",
       "            <dl>\n",
       "              <dt>Version</dt>\n",
       "                <dd><code>v2.4.5</code></dd>\n",
       "              <dt>Master</dt>\n",
       "                <dd><code>local[*]</code></dd>\n",
       "              <dt>AppName</dt>\n",
       "                <dd><code>MLexample</code></dd>\n",
       "            </dl>\n",
       "        </div>\n",
       "        \n",
       "            </div>\n",
       "        "
      ],
      "text/plain": [
       "<pyspark.sql.session.SparkSession at 0x7f4064511e10>"
      ]
     },
     "execution_count": 1,
     "metadata": {},
     "output_type": "execute_result"
    }
   ],
   "source": [
    "from pyspark.sql.session import SparkSession\n",
    "\n",
    "spark = SparkSession.builder.appName('MLexample').getOrCreate()\n",
    "spark"
   ]
  },
  {
   "cell_type": "code",
   "execution_count": 2,
   "metadata": {},
   "outputs": [],
   "source": [
    "data_binary_path = '/home/jgeng/Documents/Git/SparkLearning/book_data/binary-classification' \n",
    "data_binary = spark.read.parquet(data_binary_path)"
   ]
  },
  {
   "cell_type": "code",
   "execution_count": 3,
   "metadata": {},
   "outputs": [
    {
     "name": "stdout",
     "output_type": "stream",
     "text": [
      "+-----+--------------+\n",
      "|label|      features|\n",
      "+-----+--------------+\n",
      "|    1|[3.0,10.1,3.0]|\n",
      "|    0|[1.0,0.1,-1.0]|\n",
      "|    0|[1.0,0.1,-1.0]|\n",
      "|    1| [2.0,1.1,1.0]|\n",
      "|    1| [2.0,1.1,1.0]|\n",
      "+-----+--------------+\n",
      "\n",
      "root\n",
      " |-- label: integer (nullable = true)\n",
      " |-- features: vector (nullable = true)\n",
      "\n"
     ]
    },
    {
     "data": {
      "text/plain": [
       "5"
      ]
     },
     "execution_count": 3,
     "metadata": {},
     "output_type": "execute_result"
    }
   ],
   "source": [
    "data_binary.cache()\n",
    "data_binary.show()\n",
    "data_binary.printSchema()\n",
    "data_binary.count()"
   ]
  },
  {
   "cell_type": "markdown",
   "metadata": {},
   "source": [
    "## 1. Classification Models in MLlib <a id='sec1'></a>\n",
    "\n",
    "Spark supports following classificatoin algorithms\n",
    "- Logistic Regression\n",
    "- Decision Trees\n",
    "- Random Forest\n",
    "- Gradient-boosted Trees\n",
    "- Naive Bayes\n",
    "\n",
    "**Spark does not support Multi-label predictions natively**. Inorder to train multilabel model, one must train one model per label. (e.g. predict book's genre and book's author, you need to build two models seperately). \n",
    "- *Personal opinion: this makes assumption that different labels is independent each other. One way out is to combine these labels togther, e.g., genre, author -> genreauthor.*\n",
    "\n",
    "[back to top](#directory)"
   ]
  },
  {
   "cell_type": "markdown",
   "metadata": {},
   "source": [
    "## 2. Logistic Regression <a id='sec2'></a>\n",
    "\n",
    "**Hyperparams**\n",
    "\n",
    "|Name|Input|Notes|\n",
    "|-|-|-|\n",
    "|family|'auto'. 'binomial', 'multinomial'|specify binary/multinomial classification|\n",
    "|elasticNetParam|[0, 1]|0 for l2 loss, 1 for l1 loss, (0, 1) for elastic net\n",
    "|fitIntercept|True, False|whether fit intercept\n",
    "|regParam|[0, inf)|0 for no regularization|\n",
    "|standizatoin|True, False|whether standardize input|\n",
    "\n",
    "**Training Params**\n",
    "\n",
    "|Name|Input|Notes|\n",
    "|-|-|-|\n",
    "|maxIter|int|max iter for the optimization, default 100|\n",
    "|tol|small num|stop training when changes on weight smaller than this, default 1e-6|\n",
    "|weightCol|str|specify a column with the column name as the weights for the row data|\n",
    "\n",
    "**Prediction Params**\n",
    "\n",
    "|Name|Input|Notes|\n",
    "|-|-|-|\n",
    "|threshold|[0, 1]|threshold for make prediction on a class|\n",
    "|thresholds|[...] sum to 1|specify an array of thresholds for each class when doing multiclass classification|\n",
    "\n",
    "**Useful Functions & Attibutes**\n",
    "\n",
    "|Name|Host|Notes|\n",
    "|-|-|-|\n",
    "|`.explainParams()`|`LogisticRegression`|print out all supported paramters|\n",
    "|`.coefficients`, `.intercept`|`LogisticRegressionModel`|coef and intercept for binary logit model|\n",
    "|`.coefficientMatrix`, `.interceptVector`|`LogisticRegressionModel`|coef and intercept for multinomial logit model|\n",
    "|`.summary`|`LogisticRegressionModel`|attribute to get the summary of the model & performance|\n",
    "\n",
    "**Under `model.summary`**\n",
    "\n",
    "|Name|Type|Notes|\n",
    "|-|-|-|\n",
    "|`.areaUnderROC`|float|AUC metric|\n",
    "|`.roc`|DataFrame|roc table: FPR vs TPR|\n",
    "|`.pr`|DataFrame|precision vs recall table|\n",
    "|`.objectiveHistory`|DataFrame|history of the objective function during the training process|\n",
    "\n",
    "[back to top](#directory)"
   ]
  },
  {
   "cell_type": "code",
   "execution_count": 4,
   "metadata": {},
   "outputs": [],
   "source": [
    "from pyspark.ml.classification import LogisticRegression"
   ]
  },
  {
   "cell_type": "code",
   "execution_count": 5,
   "metadata": {},
   "outputs": [
    {
     "name": "stdout",
     "output_type": "stream",
     "text": [
      "+-----+--------------+\n",
      "|label|      features|\n",
      "+-----+--------------+\n",
      "|    1|[3.0,10.1,3.0]|\n",
      "+-----+--------------+\n",
      "only showing top 1 row\n",
      "\n"
     ]
    }
   ],
   "source": [
    "data_binary.show(1)"
   ]
  },
  {
   "cell_type": "code",
   "execution_count": 6,
   "metadata": {},
   "outputs": [],
   "source": [
    "logit = LogisticRegression(elasticNetParam=0, regParam=1e-3).setFeaturesCol('features')\\\n",
    "                                                            .setLabelCol('label')  \n",
    "clf = logit.fit(data_binary)"
   ]
  },
  {
   "cell_type": "code",
   "execution_count": 7,
   "metadata": {},
   "outputs": [
    {
     "data": {
      "text/plain": [
       "DenseMatrix(1, 3, [4.702, 0.1799, 2.351], 1)"
      ]
     },
     "execution_count": 7,
     "metadata": {},
     "output_type": "execute_result"
    }
   ],
   "source": [
    "clf.coefficientMatrix"
   ]
  },
  {
   "cell_type": "code",
   "execution_count": 8,
   "metadata": {},
   "outputs": [
    {
     "data": {
      "text/plain": [
       "DenseVector([-7.1609])"
      ]
     },
     "execution_count": 8,
     "metadata": {},
     "output_type": "execute_result"
    }
   ],
   "source": [
    "clf.interceptVector"
   ]
  },
  {
   "cell_type": "code",
   "execution_count": 9,
   "metadata": {},
   "outputs": [
    {
     "name": "stdout",
     "output_type": "stream",
     "text": [
      "+---+------------------+\n",
      "|FPR|               TPR|\n",
      "+---+------------------+\n",
      "|0.0|               0.0|\n",
      "|0.0|0.3333333333333333|\n",
      "|0.0|               1.0|\n",
      "|1.0|               1.0|\n",
      "|1.0|               1.0|\n",
      "+---+------------------+\n",
      "\n",
      "+------------------+---------+\n",
      "|            recall|precision|\n",
      "+------------------+---------+\n",
      "|               0.0|      1.0|\n",
      "|0.3333333333333333|      1.0|\n",
      "|               1.0|      1.0|\n",
      "|               1.0|      0.6|\n",
      "+------------------+---------+\n",
      "\n"
     ]
    },
    {
     "data": {
      "text/plain": [
       "1.0"
      ]
     },
     "execution_count": 9,
     "metadata": {},
     "output_type": "execute_result"
    }
   ],
   "source": [
    "clf.summary.roc.show()\n",
    "clf.summary.pr.show()\n",
    "clf.summary.areaUnderROC"
   ]
  },
  {
   "cell_type": "code",
   "execution_count": 10,
   "metadata": {},
   "outputs": [
    {
     "data": {
      "text/plain": [
       "[<matplotlib.lines.Line2D at 0x7f4055948d50>]"
      ]
     },
     "execution_count": 10,
     "metadata": {},
     "output_type": "execute_result"
    },
    {
     "data": {
      "image/png": "[encoded data removed]",
      "text/plain": [
       "<Figure size 432x288 with 1 Axes>"
      ]
     },
     "metadata": {
      "needs_background": "light"
     },
     "output_type": "display_data"
    }
   ],
   "source": [
    "import matplotlib.pyplot as plt\n",
    "\n",
    "roc_pdf = clf.summary.roc.toPandas()\n",
    "plt.plot(roc_pdf['FPR'], roc_pdf['TPR'])\n"
   ]
  },
  {
   "cell_type": "code",
   "execution_count": 11,
   "metadata": {},
   "outputs": [
    {
     "data": {
      "text/plain": [
       "[<matplotlib.lines.Line2D at 0x7f404efc7910>]"
      ]
     },
     "execution_count": 11,
     "metadata": {},
     "output_type": "execute_result"
    },
    {
     "data": {
      "image/png": "[encoded data removed]",
      "text/plain": [
       "<Figure size 432x288 with 1 Axes>"
      ]
     },
     "metadata": {
      "needs_background": "light"
     },
     "output_type": "display_data"
    }
   ],
   "source": [
    "import matplotlib.pyplot as plt\n",
    "\n",
    "pr_pdf = clf.summary.pr.toPandas()\n",
    "plt.plot(pr_pdf['recall'], pr_pdf['precision'])"
   ]
  },
  {
   "cell_type": "code",
   "execution_count": 12,
   "metadata": {},
   "outputs": [
    {
     "data": {
      "text/plain": [
       "[<matplotlib.lines.Line2D at 0x7f404ef478d0>]"
      ]
     },
     "execution_count": 12,
     "metadata": {},
     "output_type": "execute_result"
    },
    {
     "data": {
      "image/png": "[encoded data removed]",
      "text/plain": [
       "<Figure size 432x288 with 1 Axes>"
      ]
     },
     "metadata": {
      "needs_background": "light"
     },
     "output_type": "display_data"
    }
   ],
   "source": [
    "import matplotlib.pyplot as plt\n",
    "\n",
    "plt.plot(clf.summary.objectiveHistory)"
   ]
  },
  {
   "cell_type": "markdown",
   "metadata": {},
   "source": [
    "## 3. Tree Based Algorithm <a id='sec3'></a>\n",
    "\n",
    "[back to top](#directory)"
   ]
  },
  {
   "cell_type": "markdown",
   "metadata": {},
   "source": [
    "### 3.1 Decision Tree <a id='sec3-1'></a>\n",
    "\n",
    "**Hyperparams**\n",
    "\n",
    "|Name|Input|Notes|\n",
    "|-|-|-|\n",
    "|maxDepth|int|control the depth\n",
    "|maxBins|int|num of bins. default 32, continous feature will be discretinize into bins\n",
    "|impurity|'entropy', 'gini'|entropy might be a bit slower cause the log, performance no big diff for most of the cases\n",
    "|minInfoGain|float|default is 0\n",
    "|minInstancePerNode|int|default is 1\n",
    "\n",
    "\n",
    "**Training Params**\n",
    "\n",
    "|Name|Input|Notes|\n",
    "|-|-|-|\n",
    "|checkpointInterval|int|-1: no checkpoint; 10: save the model every 10 iterations; need to be set together with `checkpointDIr` and with `useNodeIDCache=True`\n",
    "\n",
    "**Prediction Params**\n",
    "\n",
    "|Name|Input|Notes|\n",
    "|-|-|-|\n",
    "|threshold|[0, 1]|threshold for make prediction on a class|\n",
    "|thresholds|[...] sum to 1|specify an array of thresholds for each class when doing multiclass classification|\n",
    "\n",
    "**Performance Metrics**\n",
    "\n",
    "Decision tree does not have `summary` attibute. To get the performance metric, use the `BinaryClassificationEvaluator` under `pyspark.ml.evaluation`\n",
    "\n",
    "[back to top](#directory)"
   ]
  },
  {
   "cell_type": "code",
   "execution_count": 13,
   "metadata": {},
   "outputs": [],
   "source": [
    "from pyspark.ml.classification import DecisionTreeClassifier\n",
    "\n",
    "# train\n",
    "dt = DecisionTreeClassifier().setFeaturesCol('features').setLabelCol('label')\n",
    "dtclf = dt.fit(data_binary)"
   ]
  },
  {
   "cell_type": "code",
   "execution_count": 14,
   "metadata": {},
   "outputs": [
    {
     "name": "stdout",
     "output_type": "stream",
     "text": [
      "+-----+--------------+-------------+-----------+----------+\n",
      "|label|      features|rawPrediction|probability|prediction|\n",
      "+-----+--------------+-------------+-----------+----------+\n",
      "|    1|[3.0,10.1,3.0]|    [0.0,3.0]|  [0.0,1.0]|       1.0|\n",
      "|    0|[1.0,0.1,-1.0]|    [2.0,0.0]|  [1.0,0.0]|       0.0|\n",
      "|    0|[1.0,0.1,-1.0]|    [2.0,0.0]|  [1.0,0.0]|       0.0|\n",
      "|    1| [2.0,1.1,1.0]|    [0.0,3.0]|  [0.0,1.0]|       1.0|\n",
      "|    1| [2.0,1.1,1.0]|    [0.0,3.0]|  [0.0,1.0]|       1.0|\n",
      "+-----+--------------+-------------+-----------+----------+\n",
      "\n",
      "1.0\n"
     ]
    },
    {
     "data": {
      "text/plain": [
       "'labelCol: label column name. (default: label, current: label)\\nmetricName: metric name in evaluation (areaUnderROC|areaUnderPR) (default: areaUnderROC, current: areaUnderROC)\\nrawPredictionCol: raw prediction (a.k.a. confidence) column name. (default: rawPrediction, current: rawPrediction)'"
      ]
     },
     "execution_count": 14,
     "metadata": {},
     "output_type": "execute_result"
    }
   ],
   "source": [
    "from pyspark.ml.evaluation import BinaryClassificationEvaluator\n",
    "\n",
    "# evaluate using auc\n",
    "res = dtclf.transform(data_binary)\n",
    "res.show()\n",
    "bce = BinaryClassificationEvaluator(rawPredictionCol='rawPrediction', \n",
    "                                    labelCol='label', \n",
    "                                    metricName='areaUnderROC')\n",
    "print(bce.evaluate(res))\n",
    "bce.explainParams()"
   ]
  },
  {
   "cell_type": "markdown",
   "metadata": {},
   "source": [
    "### 3.2 Random Forest & Gradient-boosted Tree <a id='sec3-2'></a>\n",
    "\n",
    "RF and GBT support all params in DT.\n",
    "\n",
    "**RF Additional Hyperparams**\n",
    "\n",
    "|Name|Input|Notes|\n",
    "|-|-|-|\n",
    "|numTrees|int|number of trees|\n",
    "|featureSubsetStrategy|auto', 'all', 'sqrt', 'log2', a number 'n'|' usually use 'sqrt'|\n",
    "\n",
    "**GBT Additional Hyperparams**\n",
    "\n",
    "|Name|Input|Notes|\n",
    "|-|-|-|\n",
    "|LossType|'logistic'|currently only support 'logistic'|\n",
    "|maxIter|int|number of iterations for the boosting|\n",
    "|stepSize|float|i.e. learning rate, the step on each tree constructed on the residual|\n",
    "\n",
    "[back to top](#directory)"
   ]
  },
  {
   "cell_type": "code",
   "execution_count": 15,
   "metadata": {},
   "outputs": [
    {
     "name": "stdout",
     "output_type": "stream",
     "text": [
      "+-----+--------------+-------------+-----------------------------------------+----------+\n",
      "|label|features      |rawPrediction|probability                              |prediction|\n",
      "+-----+--------------+-------------+-----------------------------------------+----------+\n",
      "|1    |[3.0,10.1,3.0]|[20.0,478.0] |[0.040160642570281124,0.9598393574297188]|1.0       |\n",
      "|0    |[1.0,0.1,-1.0]|[437.0,61.0] |[0.8775100401606426,0.12248995983935743] |0.0       |\n",
      "|0    |[1.0,0.1,-1.0]|[437.0,61.0] |[0.8775100401606426,0.12248995983935743] |0.0       |\n",
      "|1    |[2.0,1.1,1.0] |[20.0,478.0] |[0.040160642570281124,0.9598393574297188]|1.0       |\n",
      "|1    |[2.0,1.1,1.0] |[20.0,478.0] |[0.040160642570281124,0.9598393574297188]|1.0       |\n",
      "+-----+--------------+-------------+-----------------------------------------+----------+\n",
      "\n"
     ]
    }
   ],
   "source": [
    "from pyspark.ml.classification import RandomForestClassifier\n",
    "\n",
    "rf = RandomForestClassifier().setFeaturesCol('features').setLabelCol('label')\\\n",
    "                            .setNumTrees(500).setMaxDepth(20).setFeatureSubsetStrategy('sqrt')\n",
    "rdclf = rf.fit(data_binary)\n",
    "rdclf.transform(data_binary).show(20, False)"
   ]
  },
  {
   "cell_type": "code",
   "execution_count": 16,
   "metadata": {},
   "outputs": [
    {
     "name": "stdout",
     "output_type": "stream",
     "text": [
      "+-----+--------------+----------------------------------------+----------------------------------------+----------+\n",
      "|label|features      |rawPrediction                           |probability                             |prediction|\n",
      "+-----+--------------+----------------------------------------+----------------------------------------+----------+\n",
      "|1    |[3.0,10.1,3.0]|[-1.3259026792203317,1.3259026792203317]|[0.06587782434721744,0.9341221756527825]|1.0       |\n",
      "|0    |[1.0,0.1,-1.0]|[1.325902679220332,-1.325902679220332]  |[0.9341221756527827,0.06587782434721734]|0.0       |\n",
      "|0    |[1.0,0.1,-1.0]|[1.325902679220332,-1.325902679220332]  |[0.9341221756527827,0.06587782434721734]|0.0       |\n",
      "|1    |[2.0,1.1,1.0] |[-1.325902679220332,1.325902679220332]  |[0.06587782434721742,0.9341221756527825]|1.0       |\n",
      "|1    |[2.0,1.1,1.0] |[-1.325902679220332,1.325902679220332]  |[0.06587782434721742,0.9341221756527825]|1.0       |\n",
      "+-----+--------------+----------------------------------------+----------------------------------------+----------+\n",
      "\n"
     ]
    }
   ],
   "source": [
    "from pyspark.ml.classification import GBTClassifier\n",
    "\n",
    "gbt = GBTClassifier().setFeaturesCol('features').setLabelCol('label')\\\n",
    "                    .setStepSize(0.1).setMaxIter(10).setMaxDepth(2)\n",
    "gbtclf = gbt.fit(data_binary)\n",
    "gbtclf.transform(data_binary).show(20, False)"
   ]
  },
  {
   "cell_type": "markdown",
   "metadata": {},
   "source": [
    "## 4. Naive Bayes <a id='sec4'></a>\n",
    "\n",
    "**For classification, all input features must be non-negative.**\n",
    "\n",
    "**Hyperparams**\n",
    "\n",
    "|Name|Input|Notes|\n",
    "|-|-|-|\n",
    "|modelType|'bernoulli', 'mutinomial'|bernoulli for the proba of existance of an item. mutinnomial for the count of an items\n",
    "\n",
    "**Training Param**\n",
    "\n",
    "|Name|Input|Notes|\n",
    "|-|-|-|\n",
    "|smoothing|int|the regularization term introduced to the equation|\n",
    "\n",
    "**Prediction Params**\n",
    "\n",
    "|Name|Input|Notes|\n",
    "|-|-|-|\n",
    "|threshold|[0, 1]|threshold for make prediction on a class|\n",
    "|thresholds|[...] sum to 1|specify an array of thresholds for each class when doing multiclass classification|\n",
    "\n",
    "[back to top](#directory)"
   ]
  },
  {
   "cell_type": "code",
   "execution_count": 17,
   "metadata": {},
   "outputs": [],
   "source": [
    "# the sample data is not compatible with the naive bayes assumption\n",
    "# one solution is to treat all possible input value as categorical data and "
   ]
  },
  {
   "cell_type": "markdown",
   "metadata": {},
   "source": [
    "## 5. One vs Rest Classifier <a id='sec5'></a>\n",
    "\n",
    "For K classes, construct K binary classifier and use the most confident classifier's result.\n",
    "\n",
    "Workflow:\n",
    "```\n",
    "from pyspark.ml.classification import SomeClassifier, OneVsRest\n",
    "from pyspark.ml.evaluation import MulticlassClassifiationEvaluator\n",
    "\n",
    "# set up data, classifer params\n",
    "train, test = ...\n",
    "clf = ...\n",
    "\n",
    "# build the one vs rest \n",
    "ovr = OneVsRest(classfier=clf)\n",
    "\n",
    "# fit & test\n",
    "ovrclf = ovr.fit(train)\n",
    "predictions = ovrclf.transform(test)\n",
    "\n",
    "# evaluate\n",
    "evaluator = ...\n",
    "metric = evaluator.evaluate(predictions)\n",
    "```\n",
    "\n",
    "[back to top](#directory)"
   ]
  },
  {
   "cell_type": "markdown",
   "metadata": {},
   "source": [
    "## 6. Evaluators for Classification and Automating Model Tuning <a id='sec6'></a>\n",
    "\n",
    "Three kinds of classification metrics\n",
    "- Binary Classification Metircs\n",
    "- Multinomial Classification Metrics\n",
    "- Multilabel Classification Metrics\n",
    "\n",
    "Two step for getting the metrics:\n",
    "- Convert the prediction column and label column to rdds\n",
    "```\n",
    "out = model.transform(data).select('prediction', 'label')\\\n",
    "            .rdd.map(lambda x: (float(x[0]), float(x[1])))\n",
    "```\n",
    "- Construct Metrics Object object on the  with prediction results.\n",
    "\n",
    "[back to top](#directory)"
   ]
  },
  {
   "cell_type": "code",
   "execution_count": 2,
   "metadata": {},
   "outputs": [],
   "source": [
    "from pyspark.mllib.evaluation import BinaryClassificationMetrics, MulticlassMetrics"
   ]
  },
  {
   "cell_type": "code",
   "execution_count": null,
   "metadata": {},
   "outputs": [],
   "source": []
  }
 ],
 "metadata": {
  "kernelspec": {
   "display_name": "Python 3",
   "language": "python",
   "name": "python3"
  },
  "language_info": {
   "codemirror_mode": {
    "name": "ipython",
    "version": 3
   },
   "file_extension": ".py",
   "mimetype": "text/x-python",
   "name": "python",
   "nbconvert_exporter": "python",
   "pygments_lexer": "ipython3",
   "version": "3.7.6"
  }
 },
 "nbformat": 4,
 "nbformat_minor": 4
}
